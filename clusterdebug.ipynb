{
 "cells": [
  {
   "cell_type": "code",
   "execution_count": 1,
   "metadata": {},
   "outputs": [
    {
     "name": "stderr",
     "output_type": "stream",
     "text": [
      "WARNING:root:The OGB package is out of date. Your version is 1.3.3, while the latest version is 1.3.4.\n",
      "Using backend: pytorch\n"
     ]
    }
   ],
   "source": [
    "from torch_geometric.data import ClusterData, ClusterLoader\n",
    "import torch\n",
    "from ogb.linkproppred import PygLinkPropPredDataset\n",
    "from torch_geometric.utils import degree"
   ]
  },
  {
   "cell_type": "code",
   "execution_count": 2,
   "metadata": {},
   "outputs": [],
   "source": [
    "from torch import Tensor\n",
    "def reverseperm(perm: Tensor):\n",
    "    N = perm.shape[0]\n",
    "    ret = torch.empty_like(perm)\n",
    "    ret[perm] = torch.arange(N, \n",
    "        dtype=torch.long, \n",
    "        device=perm.device)\n",
    "    return ret"
   ]
  },
  {
   "cell_type": "code",
   "execution_count": 29,
   "metadata": {},
   "outputs": [
    {
     "data": {
      "text/plain": [
       "tensor(1.1081)"
      ]
     },
     "execution_count": 29,
     "metadata": {},
     "output_type": "execute_result"
    }
   ],
   "source": [
    "data.edge_weight.float().mean()"
   ]
  },
  {
   "cell_type": "code",
   "execution_count": 3,
   "metadata": {},
   "outputs": [],
   "source": [
    "dataset = PygLinkPropPredDataset(name=\"ogbl-collab\")\n",
    "data = dataset[0]\n",
    "es = dataset.get_edge_split()"
   ]
  },
  {
   "cell_type": "code",
   "execution_count": 4,
   "metadata": {},
   "outputs": [],
   "source": [
    "dev = torch.device(\"cuda:3\")"
   ]
  },
  {
   "cell_type": "code",
   "execution_count": 8,
   "metadata": {},
   "outputs": [],
   "source": [
    "from torch_sparse import SparseTensor\n",
    "import torch_sparse\n",
    "adj = SparseTensor(row=data.edge_index[0], col=data.edge_index[1], value=torch.ones_like(data.edge_index[1], dtype=torch.float), sparse_sizes=(data.num_nodes, data.num_nodes)).coalesce()\n",
    "adj = adj.device_as(torch.ones((1), device=dev))"
   ]
  },
  {
   "cell_type": "code",
   "execution_count": 10,
   "metadata": {},
   "outputs": [],
   "source": [
    "deginv = 1/(adj.sum(dim=1).flatten() + 1)"
   ]
  },
  {
   "cell_type": "code",
   "execution_count": 16,
   "metadata": {},
   "outputs": [],
   "source": [
    "Dinv = SparseTensor(row=torch.arange(data.num_nodes).to(dev), col=torch.arange(data.num_nodes).to(dev), value=deginv, sparse_sizes=(data.num_nodes, data.num_nodes))\n",
    "Dinv = Dinv.device_as(torch.ones((1), device=dev))"
   ]
  },
  {
   "cell_type": "code",
   "execution_count": 19,
   "metadata": {},
   "outputs": [],
   "source": [
    "adjAA = adj@Dinv@adj\n",
    "adjCN = adj@adj"
   ]
  },
  {
   "cell_type": "code",
   "execution_count": 20,
   "metadata": {},
   "outputs": [],
   "source": [
    "tstei = es[\"test\"][\"edge\"].t()\n",
    "tstnegei = es[\"test\"][\"edge_neg\"].t()"
   ]
  },
  {
   "cell_type": "code",
   "execution_count": 23,
   "metadata": {},
   "outputs": [
    {
     "name": "stdout",
     "output_type": "stream",
     "text": [
      "tensor(0.5454, device='cuda:3')\n"
     ]
    }
   ],
   "source": [
    "cn = adjCN[tstei[0], tstei[1]].get_diag()\n",
    "print((cn>0).float().mean())\n",
    "cnneg = adjCN[tstnegei[0], tstnegei[1]].get_diag()\n",
    "print((cnneg>0).float().mean())"
   ]
  },
  {
   "cell_type": "code",
   "execution_count": 24,
   "metadata": {},
   "outputs": [
    {
     "name": "stdout",
     "output_type": "stream",
     "text": [
      "tensor(0.5454, device='cuda:3')\n",
      "tensor(0.0006, device='cuda:3')\n"
     ]
    }
   ],
   "source": [
    "aa = adjAA[tstei[0], tstei[1]].get_diag()\n",
    "print((aa>0).float().mean())\n",
    "aaneg = adjAA[tstnegei[0], tstnegei[1]].get_diag()\n",
    "print((aaneg>0).float().mean())"
   ]
  },
  {
   "cell_type": "code",
   "execution_count": 21,
   "metadata": {},
   "outputs": [
    {
     "name": "stdout",
     "output_type": "stream",
     "text": [
      "train edge torch.Size([1179052, 2])\n",
      "train weight torch.Size([1179052])\n",
      "train year torch.Size([1179052])\n",
      "valid edge torch.Size([60084, 2])\n",
      "valid weight torch.Size([60084])\n",
      "valid year torch.Size([60084])\n",
      "valid edge_neg torch.Size([100000, 2])\n",
      "test edge torch.Size([46329, 2])\n",
      "test weight torch.Size([46329])\n",
      "test year torch.Size([46329])\n",
      "test edge_neg torch.Size([100000, 2])\n"
     ]
    }
   ],
   "source": [
    "for key1 in es:\n",
    "    for key2 in es[key1]:\n",
    "        print(key1, key2, es[key1][key2].shape)"
   ]
  },
  {
   "cell_type": "code",
   "execution_count": 22,
   "metadata": {},
   "outputs": [
    {
     "name": "stderr",
     "output_type": "stream",
     "text": [
      "Computing METIS partitioning...\n",
      "Done!\n"
     ]
    }
   ],
   "source": [
    "cld = ClusterData(data, 25)"
   ]
  },
  {
   "cell_type": "code",
   "execution_count": 23,
   "metadata": {},
   "outputs": [],
   "source": [
    "assert (cld.data.x == data.x[cld.perm]).all().item()"
   ]
  },
  {
   "cell_type": "code",
   "execution_count": 24,
   "metadata": {},
   "outputs": [],
   "source": [
    "revperm = reverseperm(cld.perm)\n",
    "nei = revperm[data.edge_index]\n",
    "nx = data.x[cld.perm]\n",
    "nea = data.edge_weight"
   ]
  },
  {
   "cell_type": "code",
   "execution_count": 25,
   "metadata": {},
   "outputs": [
    {
     "name": "stdout",
     "output_type": "stream",
     "text": [
      "tensor(0.8928)\n"
     ]
    }
   ],
   "source": [
    "neibin = torch.searchsorted(cld.partptr, nei)#torch.stack(cld.data.adj.coo()[:-1]))\n",
    "print((neibin[0]==neibin[1]).float().mean())\n",
    "tnnode = torch.diff(cld.partptr)\n",
    "tnedge = degree(neibin[:, neibin[0]==neibin[1]][0])"
   ]
  },
  {
   "cell_type": "code",
   "execution_count": 26,
   "metadata": {},
   "outputs": [
    {
     "data": {
      "text/plain": [
       "tensor([9179, 9534, 9187, 9693, 9522, 9698, 9718, 9178, 9718, 9159, 9708, 9704,\n",
       "        9161, 9694, 9697, 9161, 9676, 9159, 9159, 9194, 9703, 9700, 9170, 9225,\n",
       "        9171])"
      ]
     },
     "execution_count": 26,
     "metadata": {},
     "output_type": "execute_result"
    }
   ],
   "source": [
    "tnnode"
   ]
  },
  {
   "cell_type": "code",
   "execution_count": 27,
   "metadata": {},
   "outputs": [
    {
     "data": {
      "text/plain": [
       "tensor([0.0008, 0.0008, 0.0008, 0.0009, 0.0007, 0.0013, 0.0006, 0.0008, 0.0009,\n",
       "        0.0021, 0.0011, 0.0019, 0.0008, 0.0009, 0.0010, 0.0007, 0.0009, 0.0008,\n",
       "        0.0007, 0.0009, 0.0008, 0.0008, 0.0008, 0.0009, 0.0009])"
      ]
     },
     "execution_count": 27,
     "metadata": {},
     "output_type": "execute_result"
    }
   ],
   "source": [
    "tnedge[1:]/torch.square(tnnode)"
   ]
  },
  {
   "cell_type": "code",
   "execution_count": 28,
   "metadata": {},
   "outputs": [],
   "source": [
    "nes = {\"valid\":{}, \"test\":{}}\n",
    "nes[\"valid\"][\"edge\"] = revperm[es[\"valid\"][\"edge\"]]\n",
    "nes[\"valid\"][\"edge_neg\"] = revperm[es[\"valid\"][\"edge_neg\"]]\n",
    "nes[\"test\"][\"edge\"] = revperm[es[\"test\"][\"edge\"]]\n",
    "nes[\"test\"][\"edge_neg\"] = revperm[es[\"test\"][\"edge_neg\"]]"
   ]
  },
  {
   "cell_type": "code",
   "execution_count": 29,
   "metadata": {},
   "outputs": [],
   "source": [
    "bin = {\"valid\":{}, \"test\":{}}\n",
    "for key1 in nes:\n",
    "    for key2 in nes[key1]:\n",
    "        bin[key1][key2] = torch.searchsorted(cld.partptr, nes[key1][key2])"
   ]
  },
  {
   "cell_type": "code",
   "execution_count": 30,
   "metadata": {},
   "outputs": [],
   "source": [
    "def hashbin(bin, num_part):\n",
    "    return bin[:, 0] * num_part + bin[:, 1]"
   ]
  },
  {
   "cell_type": "code",
   "execution_count": 31,
   "metadata": {},
   "outputs": [
    {
     "name": "stdout",
     "output_type": "stream",
     "text": [
      "0.9696\n",
      "tensor(0.6549)\n",
      "1.0\n",
      "tensor(0.0399)\n",
      "0.9664\n",
      "tensor(0.5843)\n",
      "1.0\n",
      "tensor(0.0399)\n"
     ]
    }
   ],
   "source": [
    "for key1 in bin:\n",
    "    for key2 in bin[key1]:\n",
    "        tb = bin[key1][key2]\n",
    "        print(hashbin(tb, cld.num_parts).unique().shape[0]/cld.num_parts**2)\n",
    "        print((tb[:, 0]==tb[:, 1]).float().mean())"
   ]
  },
  {
   "cell_type": "code",
   "execution_count": 32,
   "metadata": {},
   "outputs": [],
   "source": [
    "from ogb.linkproppred import Evaluator"
   ]
  },
  {
   "cell_type": "code",
   "execution_count": 33,
   "metadata": {},
   "outputs": [],
   "source": [
    "evaluator = Evaluator(name=\"ogbl-collab\")"
   ]
  },
  {
   "cell_type": "code",
   "execution_count": 34,
   "metadata": {},
   "outputs": [
    {
     "data": {
      "text/plain": [
       "{'hits@50': 0.584320835761618}"
      ]
     },
     "execution_count": 34,
     "metadata": {},
     "output_type": "execute_result"
    }
   ],
   "source": [
    "tb1 = bin[\"test\"][\"edge\"].t()\n",
    "tb1 = (tb1[0]==tb1[1]).float()\n",
    "tb2 = bin[\"test\"][\"edge_neg\"].t()\n",
    "tb2 = 0.5*(tb2[0]==tb2[1]).float()\n",
    "evaluator.eval({'y_pred_pos': tb1,\n",
    "            'y_pred_neg': tb2})"
   ]
  }
 ],
 "metadata": {
  "kernelspec": {
   "display_name": "Python 3.9.6 ('wxy')",
   "language": "python",
   "name": "python3"
  },
  "language_info": {
   "codemirror_mode": {
    "name": "ipython",
    "version": 3
   },
   "file_extension": ".py",
   "mimetype": "text/x-python",
   "name": "python",
   "nbconvert_exporter": "python",
   "pygments_lexer": "ipython3",
   "version": "3.9.6"
  },
  "orig_nbformat": 4,
  "vscode": {
   "interpreter": {
    "hash": "24d7a8929d2717c32d32650f97944868319647943e896ec3db38453a66eae52d"
   }
  }
 },
 "nbformat": 4,
 "nbformat_minor": 2
}
