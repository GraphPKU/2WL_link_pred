{
 "cells": [
  {
   "cell_type": "code",
   "execution_count": 63,
   "metadata": {},
   "outputs": [],
   "source": [
    "from torch_geometric.data import ClusterData, ClusterLoader\n",
    "import torch\n",
    "from ogb.linkproppred import PygLinkPropPredDataset\n",
    "from torch_geometric.utils import degree"
   ]
  },
  {
   "cell_type": "code",
   "execution_count": 64,
   "metadata": {},
   "outputs": [],
   "source": [
    "from torch import Tensor\n",
    "def reverseperm(perm: Tensor):\n",
    "    N = perm.shape[0]\n",
    "    ret = torch.empty_like(perm)\n",
    "    ret[perm] = torch.arange(N, \n",
    "        dtype=torch.long, \n",
    "        device=perm.device)\n",
    "    return ret"
   ]
  },
  {
   "cell_type": "code",
   "execution_count": 65,
   "metadata": {},
   "outputs": [],
   "source": [
    "dataset = PygLinkPropPredDataset(name=\"ogbl-collab\")\n",
    "data = dataset[0]\n",
    "es = dataset.get_edge_split()"
   ]
  },
  {
   "cell_type": "code",
   "execution_count": 66,
   "metadata": {},
   "outputs": [
    {
     "name": "stdout",
     "output_type": "stream",
     "text": [
      "train edge torch.Size([1179052, 2])\n",
      "train weight torch.Size([1179052])\n",
      "train year torch.Size([1179052])\n",
      "valid edge torch.Size([60084, 2])\n",
      "valid weight torch.Size([60084])\n",
      "valid year torch.Size([60084])\n",
      "valid edge_neg torch.Size([100000, 2])\n",
      "test edge torch.Size([46329, 2])\n",
      "test weight torch.Size([46329])\n",
      "test year torch.Size([46329])\n",
      "test edge_neg torch.Size([100000, 2])\n"
     ]
    }
   ],
   "source": [
    "for key1 in es:\n",
    "    for key2 in es[key1]:\n",
    "        print(key1, key2, es[key1][key2].shape)"
   ]
  },
  {
   "cell_type": "code",
   "execution_count": 67,
   "metadata": {},
   "outputs": [
    {
     "name": "stderr",
     "output_type": "stream",
     "text": [
      "Computing METIS partitioning...\n",
      "Done!\n"
     ]
    }
   ],
   "source": [
    "cld = ClusterData(data, 25)"
   ]
  },
  {
   "cell_type": "code",
   "execution_count": 68,
   "metadata": {},
   "outputs": [],
   "source": [
    "assert (cld.data.x == data.x[cld.perm]).all().item()"
   ]
  },
  {
   "cell_type": "code",
   "execution_count": 69,
   "metadata": {},
   "outputs": [],
   "source": [
    "revperm = reverseperm(cld.perm)\n",
    "nei = revperm[data.edge_index]\n",
    "nx = data.x[cld.perm]\n",
    "nea = data.edge_weight"
   ]
  },
  {
   "cell_type": "code",
   "execution_count": 70,
   "metadata": {},
   "outputs": [
    {
     "name": "stdout",
     "output_type": "stream",
     "text": [
      "tensor(0.8928)\n"
     ]
    }
   ],
   "source": [
    "neibin = torch.searchsorted(cld.partptr, nei)#torch.stack(cld.data.adj.coo()[:-1]))\n",
    "print((neibin[0]==neibin[1]).float().mean())\n",
    "tnnode = torch.diff(cld.partptr)\n",
    "tnedge = degree(neibin[:, neibin[0]==neibin[1]][0])"
   ]
  },
  {
   "cell_type": "code",
   "execution_count": 71,
   "metadata": {},
   "outputs": [
    {
     "data": {
      "text/plain": [
       "tensor([9179, 9534, 9187, 9693, 9522, 9698, 9718, 9178, 9718, 9159, 9708, 9704,\n",
       "        9161, 9694, 9697, 9161, 9676, 9159, 9159, 9194, 9703, 9700, 9170, 9225,\n",
       "        9171])"
      ]
     },
     "execution_count": 71,
     "metadata": {},
     "output_type": "execute_result"
    }
   ],
   "source": [
    "tnnode"
   ]
  },
  {
   "cell_type": "code",
   "execution_count": 72,
   "metadata": {},
   "outputs": [
    {
     "data": {
      "text/plain": [
       "tensor([0.0008, 0.0008, 0.0008, 0.0009, 0.0007, 0.0013, 0.0006, 0.0008, 0.0009,\n",
       "        0.0021, 0.0011, 0.0019, 0.0008, 0.0009, 0.0010, 0.0007, 0.0009, 0.0008,\n",
       "        0.0007, 0.0009, 0.0008, 0.0008, 0.0008, 0.0009, 0.0009])"
      ]
     },
     "execution_count": 72,
     "metadata": {},
     "output_type": "execute_result"
    }
   ],
   "source": [
    "tnedge[1:]/torch.square(tnnode)"
   ]
  },
  {
   "cell_type": "code",
   "execution_count": 73,
   "metadata": {},
   "outputs": [],
   "source": [
    "nes = {\"valid\":{}, \"test\":{}}\n",
    "nes[\"valid\"][\"edge\"] = revperm[es[\"valid\"][\"edge\"]]\n",
    "nes[\"valid\"][\"edge_neg\"] = revperm[es[\"valid\"][\"edge_neg\"]]\n",
    "nes[\"test\"][\"edge\"] = revperm[es[\"test\"][\"edge\"]]\n",
    "nes[\"test\"][\"edge_neg\"] = revperm[es[\"test\"][\"edge_neg\"]]"
   ]
  },
  {
   "cell_type": "code",
   "execution_count": 74,
   "metadata": {},
   "outputs": [],
   "source": [
    "bin = {\"valid\":{}, \"test\":{}}\n",
    "for key1 in nes:\n",
    "    for key2 in nes[key1]:\n",
    "        bin[key1][key2] = torch.searchsorted(cld.partptr, nes[key1][key2])"
   ]
  },
  {
   "cell_type": "code",
   "execution_count": 75,
   "metadata": {},
   "outputs": [],
   "source": [
    "def hashbin(bin, num_part):\n",
    "    return bin[:, 0] * num_part + bin[:, 1]"
   ]
  },
  {
   "cell_type": "code",
   "execution_count": 76,
   "metadata": {},
   "outputs": [
    {
     "name": "stdout",
     "output_type": "stream",
     "text": [
      "0.9696\n",
      "tensor(0.6549)\n",
      "1.0\n",
      "tensor(0.0399)\n",
      "0.9664\n",
      "tensor(0.5843)\n",
      "1.0\n",
      "tensor(0.0399)\n"
     ]
    }
   ],
   "source": [
    "for key1 in bin:\n",
    "    for key2 in bin[key1]:\n",
    "        tb = bin[key1][key2]\n",
    "        print(hashbin(tb, cld.num_parts).unique().shape[0]/cld.num_parts**2)\n",
    "        print((tb[:, 0]==tb[:, 1]).float().mean())"
   ]
  },
  {
   "cell_type": "code",
   "execution_count": 77,
   "metadata": {},
   "outputs": [],
   "source": [
    "from ogb.linkproppred import Evaluator"
   ]
  },
  {
   "cell_type": "code",
   "execution_count": 78,
   "metadata": {},
   "outputs": [],
   "source": [
    "evaluator = Evaluator(name=\"ogbl-collab\")"
   ]
  },
  {
   "cell_type": "code",
   "execution_count": 79,
   "metadata": {},
   "outputs": [
    {
     "data": {
      "text/plain": [
       "{'hits@50': 0.584320835761618}"
      ]
     },
     "execution_count": 79,
     "metadata": {},
     "output_type": "execute_result"
    }
   ],
   "source": [
    "tb1 = bin[\"test\"][\"edge\"].t()\n",
    "tb1 = (tb1[0]==tb1[1]).float()\n",
    "tb2 = bin[\"test\"][\"edge_neg\"].t()\n",
    "tb2 = 0.5*(tb2[0]==tb2[1]).float()\n",
    "evaluator.eval({'y_pred_pos': tb1,\n",
    "            'y_pred_neg': tb2})"
   ]
  }
 ],
 "metadata": {
  "kernelspec": {
   "display_name": "Python 3.9.7 64-bit ('anaconda3')",
   "language": "python",
   "name": "python3"
  },
  "language_info": {
   "codemirror_mode": {
    "name": "ipython",
    "version": 3
   },
   "file_extension": ".py",
   "mimetype": "text/x-python",
   "name": "python",
   "nbconvert_exporter": "python",
   "pygments_lexer": "ipython3",
   "version": "3.9.7"
  },
  "orig_nbformat": 4,
  "vscode": {
   "interpreter": {
    "hash": "df7eb8a1a434d1472bc34f49147135d848b85f6630b43275e81332f78ddd5832"
   }
  }
 },
 "nbformat": 4,
 "nbformat_minor": 2
}
